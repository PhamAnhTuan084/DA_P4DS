{
 "cells": [
  {
   "cell_type": "markdown",
   "id": "67119e43",
   "metadata": {},
   "source": [
    "<h1 style = \"font-family: Comic Sans MS;background-color:#D7BDE2\"> Introduction </h1>\n",
    "\n",
    "[Github link to project](https://github.com/PhamAnhTuan084/DATH_P4DS)\n",
    "\n",
    "Student in this final project:\n",
    "\n",
    "- 19127084 - Phạm Anh Tuấn\n",
    "\n",
    "Being inspired by the teacher's sharing on the last day of the lecture `Programming for Data Science` about **health**, I decided to look for a related topic. Moreover, I am expecting to see a positive vibe in tech industry around the world about mental health problems."
   ]
  },
  {
   "cell_type": "markdown",
   "id": "02ebc82e",
   "metadata": {},
   "source": [
    "<h1 style = \"font-family: Comic Sans MS;background-color:#D7BDE2\"> Library </h1> \n",
    "\n",
    "Import neccessary library for this file."
   ]
  },
  {
   "cell_type": "code",
   "execution_count": 1,
   "id": "b430c331",
   "metadata": {},
   "outputs": [
    {
     "data": {
      "text/plain": [
       "'C:\\\\Users\\\\Asus\\\\anaconda3\\\\python.exe'"
      ]
     },
     "execution_count": 1,
     "metadata": {},
     "output_type": "execute_result"
    }
   ],
   "source": [
    "import sys\n",
    "sys.executable"
   ]
  },
  {
   "cell_type": "code",
   "execution_count": 2,
   "id": "08604783",
   "metadata": {},
   "outputs": [],
   "source": [
    "import numpy as np\n",
    "import pandas as pd\n",
    "import seaborn as sns\n",
    "import matplotlib.pyplot as plt\n",
    "import missingno as msno\n",
    "import plotly.express as px\n",
    "\n",
    "import warnings\n",
    "warnings.simplefilter('ignore')"
   ]
  },
  {
   "cell_type": "markdown",
   "id": "14a93229",
   "metadata": {},
   "source": [
    "<h1 style = \"font-family: Comic Sans MS;background-color:#D7BDE2\">  Data Collection </h1> \n",
    "    \n",
    "## Objectives and Ideas\n",
    "As sharing before, I decided to find the dataset about the mental health problems, especially in technology field. We found this whilst going on [Kaggle.com](https://www.kaggle.com/) which is a popular website with lots of useful dataset to start working.\n",
    "\n",
    "## Sources\n",
    "The title: *[Mental Health in Tech Survey](https://www.kaggle.com/datasets/osmi/mental-health-in-tech-survey?datasetId=311)* \\\n",
    "**Survey on Mental Health in the Tech Workplace in 2014**\n",
    "\n",
    "## About Dataset\n",
    "This dataset is from a 2014 survey that measures attitudes towards mental health and frequency of mental health disorders in the tech workplace.\n",
    "\n",
    "## The author\n",
    "The survey comes from **OSMI**.\\\n",
    "*OSMI is a non-profit 501c3 corporation dedicated to \"raising awareness, educating, and providing resources to support mental wellness in the tech and **open source** communities.\" What they do in support of this goal includes providing e-books on mental wellness in the workplace, hosting a forum on conversations on mental health, and holding talks at developer conferences about mental health in the community.* \\\n",
    "Details can be found at: *[Link](https://osmihelp.org/about/about-osmi)* \n",
    "\n",
    "## License\n",
    "The dataset gets the License CC BY-SA 4.0 for:\n",
    "- Share — copy and redistribute the material in any medium or format.\n",
    "- Adapt — remix, transform, and build upon the material for any purpose, even commercially\n",
    "\n",
    "## Is it a sample, and was it properly sampled?\n",
    "Yes, it is a sample. I can't find official information about the data collection method, but it appears *not* to be a random sample (the survey link is available on their website), so I can assume that it is not representative.\n",
    "\n",
    "## How did authors collect data?\n",
    "OSMI provides a survey on mental health in tech industry. This survey contains a variety of questions pertaining to the mental health of the respondents, the demographics of the respondents, and how employer views on mental health in the workplace. This survey was conducted in 2014."
   ]
  },
  {
   "cell_type": "markdown",
   "id": "41dafc42",
   "metadata": {},
   "source": [
    "<h1 style = \"font-family: Comic Sans MS;background-color:#D7BDE2\t\">   Exploring data </h1> \n",
    "\n",
    "I will need to check briefly what is in the dataset that we collected."
   ]
  },
  {
   "cell_type": "code",
   "execution_count": 3,
   "id": "e40bcf29",
   "metadata": {},
   "outputs": [
    {
     "data": {
      "text/html": [
       "<div>\n",
       "<style scoped>\n",
       "    .dataframe tbody tr th:only-of-type {\n",
       "        vertical-align: middle;\n",
       "    }\n",
       "\n",
       "    .dataframe tbody tr th {\n",
       "        vertical-align: top;\n",
       "    }\n",
       "\n",
       "    .dataframe thead th {\n",
       "        text-align: right;\n",
       "    }\n",
       "</style>\n",
       "<table border=\"1\" class=\"dataframe\">\n",
       "  <thead>\n",
       "    <tr style=\"text-align: right;\">\n",
       "      <th></th>\n",
       "      <th>Timestamp</th>\n",
       "      <th>Age</th>\n",
       "      <th>Gender</th>\n",
       "      <th>Country</th>\n",
       "      <th>state</th>\n",
       "      <th>self_employed</th>\n",
       "      <th>family_history</th>\n",
       "      <th>treatment</th>\n",
       "      <th>work_interfere</th>\n",
       "      <th>no_employees</th>\n",
       "      <th>...</th>\n",
       "      <th>leave</th>\n",
       "      <th>mental_health_consequence</th>\n",
       "      <th>phys_health_consequence</th>\n",
       "      <th>coworkers</th>\n",
       "      <th>supervisor</th>\n",
       "      <th>mental_health_interview</th>\n",
       "      <th>phys_health_interview</th>\n",
       "      <th>mental_vs_physical</th>\n",
       "      <th>obs_consequence</th>\n",
       "      <th>comments</th>\n",
       "    </tr>\n",
       "  </thead>\n",
       "  <tbody>\n",
       "    <tr>\n",
       "      <th>0</th>\n",
       "      <td>2014-08-27 11:29:31</td>\n",
       "      <td>37</td>\n",
       "      <td>Female</td>\n",
       "      <td>United States</td>\n",
       "      <td>IL</td>\n",
       "      <td>NaN</td>\n",
       "      <td>No</td>\n",
       "      <td>Yes</td>\n",
       "      <td>Often</td>\n",
       "      <td>6-25</td>\n",
       "      <td>...</td>\n",
       "      <td>Somewhat easy</td>\n",
       "      <td>No</td>\n",
       "      <td>No</td>\n",
       "      <td>Some of them</td>\n",
       "      <td>Yes</td>\n",
       "      <td>No</td>\n",
       "      <td>Maybe</td>\n",
       "      <td>Yes</td>\n",
       "      <td>No</td>\n",
       "      <td>NaN</td>\n",
       "    </tr>\n",
       "    <tr>\n",
       "      <th>1</th>\n",
       "      <td>2014-08-27 11:29:37</td>\n",
       "      <td>44</td>\n",
       "      <td>M</td>\n",
       "      <td>United States</td>\n",
       "      <td>IN</td>\n",
       "      <td>NaN</td>\n",
       "      <td>No</td>\n",
       "      <td>No</td>\n",
       "      <td>Rarely</td>\n",
       "      <td>More than 1000</td>\n",
       "      <td>...</td>\n",
       "      <td>Don't know</td>\n",
       "      <td>Maybe</td>\n",
       "      <td>No</td>\n",
       "      <td>No</td>\n",
       "      <td>No</td>\n",
       "      <td>No</td>\n",
       "      <td>No</td>\n",
       "      <td>Don't know</td>\n",
       "      <td>No</td>\n",
       "      <td>NaN</td>\n",
       "    </tr>\n",
       "    <tr>\n",
       "      <th>2</th>\n",
       "      <td>2014-08-27 11:29:44</td>\n",
       "      <td>32</td>\n",
       "      <td>Male</td>\n",
       "      <td>Canada</td>\n",
       "      <td>NaN</td>\n",
       "      <td>NaN</td>\n",
       "      <td>No</td>\n",
       "      <td>No</td>\n",
       "      <td>Rarely</td>\n",
       "      <td>6-25</td>\n",
       "      <td>...</td>\n",
       "      <td>Somewhat difficult</td>\n",
       "      <td>No</td>\n",
       "      <td>No</td>\n",
       "      <td>Yes</td>\n",
       "      <td>Yes</td>\n",
       "      <td>Yes</td>\n",
       "      <td>Yes</td>\n",
       "      <td>No</td>\n",
       "      <td>No</td>\n",
       "      <td>NaN</td>\n",
       "    </tr>\n",
       "    <tr>\n",
       "      <th>3</th>\n",
       "      <td>2014-08-27 11:29:46</td>\n",
       "      <td>31</td>\n",
       "      <td>Male</td>\n",
       "      <td>United Kingdom</td>\n",
       "      <td>NaN</td>\n",
       "      <td>NaN</td>\n",
       "      <td>Yes</td>\n",
       "      <td>Yes</td>\n",
       "      <td>Often</td>\n",
       "      <td>26-100</td>\n",
       "      <td>...</td>\n",
       "      <td>Somewhat difficult</td>\n",
       "      <td>Yes</td>\n",
       "      <td>Yes</td>\n",
       "      <td>Some of them</td>\n",
       "      <td>No</td>\n",
       "      <td>Maybe</td>\n",
       "      <td>Maybe</td>\n",
       "      <td>No</td>\n",
       "      <td>Yes</td>\n",
       "      <td>NaN</td>\n",
       "    </tr>\n",
       "    <tr>\n",
       "      <th>4</th>\n",
       "      <td>2014-08-27 11:30:22</td>\n",
       "      <td>31</td>\n",
       "      <td>Male</td>\n",
       "      <td>United States</td>\n",
       "      <td>TX</td>\n",
       "      <td>NaN</td>\n",
       "      <td>No</td>\n",
       "      <td>No</td>\n",
       "      <td>Never</td>\n",
       "      <td>100-500</td>\n",
       "      <td>...</td>\n",
       "      <td>Don't know</td>\n",
       "      <td>No</td>\n",
       "      <td>No</td>\n",
       "      <td>Some of them</td>\n",
       "      <td>Yes</td>\n",
       "      <td>Yes</td>\n",
       "      <td>Yes</td>\n",
       "      <td>Don't know</td>\n",
       "      <td>No</td>\n",
       "      <td>NaN</td>\n",
       "    </tr>\n",
       "  </tbody>\n",
       "</table>\n",
       "<p>5 rows × 27 columns</p>\n",
       "</div>"
      ],
      "text/plain": [
       "             Timestamp  Age  Gender         Country state self_employed  \\\n",
       "0  2014-08-27 11:29:31   37  Female   United States    IL           NaN   \n",
       "1  2014-08-27 11:29:37   44       M   United States    IN           NaN   \n",
       "2  2014-08-27 11:29:44   32    Male          Canada   NaN           NaN   \n",
       "3  2014-08-27 11:29:46   31    Male  United Kingdom   NaN           NaN   \n",
       "4  2014-08-27 11:30:22   31    Male   United States    TX           NaN   \n",
       "\n",
       "  family_history treatment work_interfere    no_employees  ...  \\\n",
       "0             No       Yes          Often            6-25  ...   \n",
       "1             No        No         Rarely  More than 1000  ...   \n",
       "2             No        No         Rarely            6-25  ...   \n",
       "3            Yes       Yes          Often          26-100  ...   \n",
       "4             No        No          Never         100-500  ...   \n",
       "\n",
       "                leave mental_health_consequence phys_health_consequence  \\\n",
       "0       Somewhat easy                        No                      No   \n",
       "1          Don't know                     Maybe                      No   \n",
       "2  Somewhat difficult                        No                      No   \n",
       "3  Somewhat difficult                       Yes                     Yes   \n",
       "4          Don't know                        No                      No   \n",
       "\n",
       "      coworkers supervisor mental_health_interview phys_health_interview  \\\n",
       "0  Some of them        Yes                      No                 Maybe   \n",
       "1            No         No                      No                    No   \n",
       "2           Yes        Yes                     Yes                   Yes   \n",
       "3  Some of them         No                   Maybe                 Maybe   \n",
       "4  Some of them        Yes                     Yes                   Yes   \n",
       "\n",
       "  mental_vs_physical obs_consequence comments  \n",
       "0                Yes              No      NaN  \n",
       "1         Don't know              No      NaN  \n",
       "2                 No              No      NaN  \n",
       "3                 No             Yes      NaN  \n",
       "4         Don't know              No      NaN  \n",
       "\n",
       "[5 rows x 27 columns]"
      ]
     },
     "execution_count": 3,
     "metadata": {},
     "output_type": "execute_result"
    }
   ],
   "source": [
    "df = pd.read_csv('survey.csv')\n",
    "df.head(5)"
   ]
  },
  {
   "cell_type": "markdown",
   "id": "b4de32be",
   "metadata": {},
   "source": [
    "## How many rows and columns in the dataset?"
   ]
  },
  {
   "cell_type": "code",
   "execution_count": 4,
   "id": "384aa33a",
   "metadata": {},
   "outputs": [
    {
     "name": "stdout",
     "output_type": "stream",
     "text": [
      "\u001b[1mShape of the data (rows, columns):\u001b[0m\n",
      "(1259, 27)\n"
     ]
    }
   ],
   "source": [
    "print('\\033[1m' + 'Shape of the data (rows, columns):' + '\\033[0m')\n",
    "print(df.shape)"
   ]
  },
  {
   "cell_type": "markdown",
   "id": "d732cf44",
   "metadata": {},
   "source": [
    "We can see that there are 1259 rows with 27 columns."
   ]
  },
  {
   "cell_type": "markdown",
   "id": "5880608a",
   "metadata": {},
   "source": [
    "## What is the meaning of each column?"
   ]
  },
  {
   "cell_type": "code",
   "execution_count": 5,
   "id": "5371c05c",
   "metadata": {},
   "outputs": [
    {
     "name": "stdout",
     "output_type": "stream",
     "text": [
      "<class 'pandas.core.frame.DataFrame'>\n",
      "RangeIndex: 1259 entries, 0 to 1258\n",
      "Data columns (total 27 columns):\n",
      " #   Column                     Non-Null Count  Dtype \n",
      "---  ------                     --------------  ----- \n",
      " 0   Timestamp                  1259 non-null   object\n",
      " 1   Age                        1259 non-null   int64 \n",
      " 2   Gender                     1259 non-null   object\n",
      " 3   Country                    1259 non-null   object\n",
      " 4   state                      744 non-null    object\n",
      " 5   self_employed              1241 non-null   object\n",
      " 6   family_history             1259 non-null   object\n",
      " 7   treatment                  1259 non-null   object\n",
      " 8   work_interfere             995 non-null    object\n",
      " 9   no_employees               1259 non-null   object\n",
      " 10  remote_work                1259 non-null   object\n",
      " 11  tech_company               1259 non-null   object\n",
      " 12  benefits                   1259 non-null   object\n",
      " 13  care_options               1259 non-null   object\n",
      " 14  wellness_program           1259 non-null   object\n",
      " 15  seek_help                  1259 non-null   object\n",
      " 16  anonymity                  1259 non-null   object\n",
      " 17  leave                      1259 non-null   object\n",
      " 18  mental_health_consequence  1259 non-null   object\n",
      " 19  phys_health_consequence    1259 non-null   object\n",
      " 20  coworkers                  1259 non-null   object\n",
      " 21  supervisor                 1259 non-null   object\n",
      " 22  mental_health_interview    1259 non-null   object\n",
      " 23  phys_health_interview      1259 non-null   object\n",
      " 24  mental_vs_physical         1259 non-null   object\n",
      " 25  obs_consequence            1259 non-null   object\n",
      " 26  comments                   164 non-null    object\n",
      "dtypes: int64(1), object(26)\n",
      "memory usage: 265.7+ KB\n"
     ]
    }
   ],
   "source": [
    "df.info()"
   ]
  },
  {
   "cell_type": "markdown",
   "id": "99d99837",
   "metadata": {},
   "source": [
    "There are **27** columns in the datset.\n",
    "The survey covers information mainly in 5 aspects: \n",
    "1. **Geographic** and **Demographic** information of responders: e.g. **Age**, **Gender**, **Country**, **state**, **family history** of mental illness\n",
    "2.  Basic information about **workspace**: e.g. **self-employed** or not, **number of employees**, **remote work** or not, **tech company** or not, **work interfere** when have mental health condition\n",
    "3.  **Supporting** for mental health from Workspaces: \n",
    "* **benefits**: Does your employer provide mental health benefits?\n",
    "* **care_options**: Do you know the options for mental health care your employer provides?\n",
    "* **wellness_program**: Has your employer ever discussed mental health as part of an employee wellness program?\n",
    "* **seek_help**: Does your employer provide resources to learn more about mental health issues and how to seek help?\n",
    "* **anonymity**: Is your anonymity protected if you choose to take advantage of mental health or substance abuse treatment resources?\n",
    "* **leave**: How easy is it for you to take medical leave for a mental health condition?\n",
    "4. **Possible negative consequence**:\n",
    "* **mental_health_consequence**: Do you think that discussing a mental health issue with your employer would have negative consequences?\n",
    "* **phys_health_consequence**: Do you think that discussing a physical health issue with your employer would have negative consequences?\n",
    "* **coworkers**: Would you be willing to discuss a mental health issue with your coworkers?\n",
    "* **supervisor**: Would you be willing to discuss a mental health issue with your direct supervisor(s)?\n",
    "* **mental_health_interview**: Would you bring up a mental health issue with a potential employer in an interview?\n",
    "* **phys_health_interview**: Would you bring up a physical health issue with a potential employer in an interview?\n",
    "* **mental_vs_physical**: Do you feel that your employer takes mental health as seriously as physical health?\n",
    "* **obs_consequence**: Have you heard of or observed negative consequences for coworkers with mental health conditions in your workplace?\n",
    "5. Whether or not seek mental disorder treatment: **treatment**"
   ]
  },
  {
   "cell_type": "markdown",
   "id": "ef1318e5",
   "metadata": {},
   "source": [
    "## What is the meaning of each row?"
   ]
  },
  {
   "cell_type": "code",
   "execution_count": 6,
   "id": "9f08b9fd",
   "metadata": {},
   "outputs": [
    {
     "data": {
      "text/html": [
       "<div>\n",
       "<style scoped>\n",
       "    .dataframe tbody tr th:only-of-type {\n",
       "        vertical-align: middle;\n",
       "    }\n",
       "\n",
       "    .dataframe tbody tr th {\n",
       "        vertical-align: top;\n",
       "    }\n",
       "\n",
       "    .dataframe thead th {\n",
       "        text-align: right;\n",
       "    }\n",
       "</style>\n",
       "<table border=\"1\" class=\"dataframe\">\n",
       "  <thead>\n",
       "    <tr style=\"text-align: right;\">\n",
       "      <th></th>\n",
       "      <th>Timestamp</th>\n",
       "      <th>Age</th>\n",
       "      <th>Gender</th>\n",
       "      <th>Country</th>\n",
       "      <th>state</th>\n",
       "      <th>self_employed</th>\n",
       "      <th>family_history</th>\n",
       "      <th>treatment</th>\n",
       "      <th>work_interfere</th>\n",
       "      <th>no_employees</th>\n",
       "      <th>...</th>\n",
       "      <th>leave</th>\n",
       "      <th>mental_health_consequence</th>\n",
       "      <th>phys_health_consequence</th>\n",
       "      <th>coworkers</th>\n",
       "      <th>supervisor</th>\n",
       "      <th>mental_health_interview</th>\n",
       "      <th>phys_health_interview</th>\n",
       "      <th>mental_vs_physical</th>\n",
       "      <th>obs_consequence</th>\n",
       "      <th>comments</th>\n",
       "    </tr>\n",
       "  </thead>\n",
       "  <tbody>\n",
       "    <tr>\n",
       "      <th>1014</th>\n",
       "      <td>2014-08-29 09:53:50</td>\n",
       "      <td>31</td>\n",
       "      <td>male</td>\n",
       "      <td>United States</td>\n",
       "      <td>SD</td>\n",
       "      <td>No</td>\n",
       "      <td>No</td>\n",
       "      <td>No</td>\n",
       "      <td>Sometimes</td>\n",
       "      <td>More than 1000</td>\n",
       "      <td>...</td>\n",
       "      <td>Don't know</td>\n",
       "      <td>Yes</td>\n",
       "      <td>Maybe</td>\n",
       "      <td>Some of them</td>\n",
       "      <td>Some of them</td>\n",
       "      <td>No</td>\n",
       "      <td>Maybe</td>\n",
       "      <td>Yes</td>\n",
       "      <td>No</td>\n",
       "      <td>NaN</td>\n",
       "    </tr>\n",
       "  </tbody>\n",
       "</table>\n",
       "<p>1 rows × 27 columns</p>\n",
       "</div>"
      ],
      "text/plain": [
       "                Timestamp  Age Gender        Country state self_employed  \\\n",
       "1014  2014-08-29 09:53:50   31   male  United States    SD            No   \n",
       "\n",
       "     family_history treatment work_interfere    no_employees  ...       leave  \\\n",
       "1014             No        No      Sometimes  More than 1000  ...  Don't know   \n",
       "\n",
       "     mental_health_consequence phys_health_consequence     coworkers  \\\n",
       "1014                       Yes                   Maybe  Some of them   \n",
       "\n",
       "        supervisor mental_health_interview phys_health_interview  \\\n",
       "1014  Some of them                      No                 Maybe   \n",
       "\n",
       "     mental_vs_physical obs_consequence comments  \n",
       "1014                Yes              No      NaN  \n",
       "\n",
       "[1 rows x 27 columns]"
      ]
     },
     "execution_count": 6,
     "metadata": {},
     "output_type": "execute_result"
    }
   ],
   "source": [
    "df.sample()"
   ]
  },
  {
   "cell_type": "markdown",
   "id": "5d7e5eaf",
   "metadata": {},
   "source": [
    "Each row presents for each respondents about their opinion with mental health problems."
   ]
  },
  {
   "cell_type": "markdown",
   "id": "5107a370",
   "metadata": {},
   "source": [
    "## Are there duplicated rows?"
   ]
  },
  {
   "cell_type": "code",
   "execution_count": 7,
   "id": "75c979bc",
   "metadata": {},
   "outputs": [
    {
     "data": {
      "text/plain": [
       "False"
      ]
     },
     "execution_count": 7,
     "metadata": {},
     "output_type": "execute_result"
    }
   ],
   "source": [
    "dups_count = df.duplicated(keep='first').sum()\n",
    "dups_count != 0"
   ]
  },
  {
   "cell_type": "markdown",
   "id": "862b3564",
   "metadata": {},
   "source": [
    "Fortunately, there is NO duplicated rows in the dataset."
   ]
  },
  {
   "cell_type": "markdown",
   "id": "926a364d",
   "metadata": {},
   "source": [
    "## What is the current data type of each column? Are there columns having inappropriate data types?"
   ]
  },
  {
   "cell_type": "code",
   "execution_count": 8,
   "id": "4b2b5f6f",
   "metadata": {},
   "outputs": [
    {
     "data": {
      "text/plain": [
       "Timestamp                    object\n",
       "Age                           int64\n",
       "Gender                       object\n",
       "Country                      object\n",
       "state                        object\n",
       "self_employed                object\n",
       "family_history               object\n",
       "treatment                    object\n",
       "work_interfere               object\n",
       "no_employees                 object\n",
       "remote_work                  object\n",
       "tech_company                 object\n",
       "benefits                     object\n",
       "care_options                 object\n",
       "wellness_program             object\n",
       "seek_help                    object\n",
       "anonymity                    object\n",
       "leave                        object\n",
       "mental_health_consequence    object\n",
       "phys_health_consequence      object\n",
       "coworkers                    object\n",
       "supervisor                   object\n",
       "mental_health_interview      object\n",
       "phys_health_interview        object\n",
       "mental_vs_physical           object\n",
       "obs_consequence              object\n",
       "comments                     object\n",
       "dtype: object"
      ]
     },
     "execution_count": 8,
     "metadata": {},
     "output_type": "execute_result"
    }
   ],
   "source": [
    "col_dtypes = pd.Series(df.dtypes)\n",
    "col_dtypes"
   ]
  },
  {
   "cell_type": "markdown",
   "id": "2b531ddc",
   "metadata": {},
   "source": [
    "**Summaries:**\n",
    "\n",
    "- Summary of data types in this dataset:\n",
    " - <em>Numeric</em>: <strong>Age</strong> (integer)\n",
    " - <em>Object</em>: Everything else\n",
    "- Further observations on this data set:\n",
    " - <strong>Timestamp</strong>: convert to datetime"
   ]
  },
  {
   "cell_type": "code",
   "execution_count": 9,
   "id": "eb60cda6",
   "metadata": {},
   "outputs": [
    {
     "data": {
      "text/plain": [
       "Timestamp                    datetime64[ns]\n",
       "Age                                   int64\n",
       "Gender                               object\n",
       "Country                              object\n",
       "state                                object\n",
       "self_employed                        object\n",
       "family_history                       object\n",
       "treatment                            object\n",
       "work_interfere                       object\n",
       "no_employees                         object\n",
       "remote_work                          object\n",
       "tech_company                         object\n",
       "benefits                             object\n",
       "care_options                         object\n",
       "wellness_program                     object\n",
       "seek_help                            object\n",
       "anonymity                            object\n",
       "leave                                object\n",
       "mental_health_consequence            object\n",
       "phys_health_consequence              object\n",
       "coworkers                            object\n",
       "supervisor                           object\n",
       "mental_health_interview              object\n",
       "phys_health_interview                object\n",
       "mental_vs_physical                   object\n",
       "obs_consequence                      object\n",
       "comments                             object\n",
       "dtype: object"
      ]
     },
     "execution_count": 9,
     "metadata": {},
     "output_type": "execute_result"
    }
   ],
   "source": [
    "# use pandas to change data type for Timestamp\n",
    "df['Timestamp'] = pd.to_datetime(df['Timestamp'])\n",
    "df.dtypes"
   ]
  },
  {
   "cell_type": "markdown",
   "id": "8e9ead3f",
   "metadata": {},
   "source": [
    "## Missing values"
   ]
  },
  {
   "cell_type": "code",
   "execution_count": 10,
   "id": "1a89d83e",
   "metadata": {},
   "outputs": [
    {
     "name": "stdout",
     "output_type": "stream",
     "text": [
      "Missing value count and percentage: \n",
      "                           Count  Percentage\n",
      "comments                    1095   86.973789\n",
      "state                        515   40.905481\n",
      "work_interfere               264   20.969023\n",
      "self_employed                 18    1.429706\n",
      "seek_help                      0    0.000000\n",
      "obs_consequence                0    0.000000\n",
      "mental_vs_physical             0    0.000000\n",
      "phys_health_interview          0    0.000000\n",
      "mental_health_interview        0    0.000000\n",
      "supervisor                     0    0.000000\n",
      "coworkers                      0    0.000000\n",
      "phys_health_consequence        0    0.000000\n",
      "mental_health_consequence      0    0.000000\n",
      "leave                          0    0.000000\n",
      "anonymity                      0    0.000000\n",
      "Timestamp                      0    0.000000\n",
      "wellness_program               0    0.000000\n",
      "Age                            0    0.000000\n",
      "benefits                       0    0.000000\n",
      "tech_company                   0    0.000000\n",
      "remote_work                    0    0.000000\n",
      "no_employees                   0    0.000000\n",
      "treatment                      0    0.000000\n",
      "family_history                 0    0.000000\n",
      "Country                        0    0.000000\n",
      "Gender                         0    0.000000\n",
      "care_options                   0    0.000000\n"
     ]
    }
   ],
   "source": [
    "raw_data = df.copy()\n",
    "\n",
    "null_count = df.isnull().sum().sort_values(ascending=False)\n",
    "null_percent = null_count/len(df.index)*100\n",
    "null_summary = pd.concat([null_count, null_percent], axis = 1, keys = [\"Count\", \"Percentage\"])\n",
    "print(\"Missing value count and percentage: \")\n",
    "print(null_summary)"
   ]
  },
  {
   "cell_type": "markdown",
   "id": "5ce382a6",
   "metadata": {},
   "source": [
    "- Since **comments** are usually optional for responders and almost 87% of data were missing, this column is not essential information for analysis. So I drop this column."
   ]
  },
  {
   "cell_type": "code",
   "execution_count": 11,
   "id": "7d67b512",
   "metadata": {},
   "outputs": [],
   "source": [
    "# drop comments column\n",
    "df = df.drop(\"comments\",axis = 1)"
   ]
  },
  {
   "cell_type": "markdown",
   "id": "6f5acc74",
   "metadata": {},
   "source": [
    "- For **state**, **work_interfere** and **self_employed** , I need to consider treating these columns."
   ]
  },
  {
   "cell_type": "code",
   "execution_count": 12,
   "id": "5bf613ce",
   "metadata": {},
   "outputs": [
    {
     "name": "stdout",
     "output_type": "stream",
     "text": [
      "Country value count and percentage: \n",
      "                        Count  Percentage\n",
      "United States             751   59.650516\n",
      "United Kingdom            185   14.694202\n",
      "Canada                     72    5.718824\n",
      "Germany                    45    3.574265\n",
      "Ireland                    27    2.144559\n",
      "Netherlands                27    2.144559\n",
      "Australia                  21    1.667990\n",
      "France                     13    1.032566\n",
      "India                      10    0.794281\n",
      "New Zealand                 8    0.635425\n",
      "Poland                      7    0.555997\n",
      "Switzerland                 7    0.555997\n",
      "Sweden                      7    0.555997\n",
      "Italy                       7    0.555997\n",
      "South Africa                6    0.476569\n",
      "Belgium                     6    0.476569\n",
      "Brazil                      6    0.476569\n",
      "Israel                      5    0.397141\n",
      "Singapore                   4    0.317712\n",
      "Bulgaria                    4    0.317712\n",
      "Austria                     3    0.238284\n",
      "Finland                     3    0.238284\n",
      "Mexico                      3    0.238284\n",
      "Russia                      3    0.238284\n",
      "Denmark                     2    0.158856\n",
      "Greece                      2    0.158856\n",
      "Colombia                    2    0.158856\n",
      "Croatia                     2    0.158856\n",
      "Portugal                    2    0.158856\n",
      "Moldova                     1    0.079428\n",
      "Georgia                     1    0.079428\n",
      "Bahamas, The                1    0.079428\n",
      "China                       1    0.079428\n",
      "Thailand                    1    0.079428\n",
      "Czech Republic              1    0.079428\n",
      "Norway                      1    0.079428\n",
      "Romania                     1    0.079428\n",
      "Nigeria                     1    0.079428\n",
      "Japan                       1    0.079428\n",
      "Hungary                     1    0.079428\n",
      "Bosnia and Herzegovina      1    0.079428\n",
      "Uruguay                     1    0.079428\n",
      "Spain                       1    0.079428\n",
      "Zimbabwe                    1    0.079428\n",
      "Latvia                      1    0.079428\n",
      "Costa Rica                  1    0.079428\n",
      "Slovenia                    1    0.079428\n",
      "Philippines                 1    0.079428\n",
      "\n",
      "State: \n",
      "['IL' 'IN' nan 'TX' 'TN' 'MI' 'OH' 'CA' 'CT' 'MD' 'NY' 'NC' 'MA' 'IA' 'PA'\n",
      " 'WA' 'WI' 'UT' 'NM' 'OR' 'FL' 'MN' 'MO' 'AZ' 'CO' 'GA' 'DC' 'NE' 'WV'\n",
      " 'OK' 'KS' 'VA' 'NH' 'KY' 'AL' 'NV' 'NJ' 'SC' 'VT' 'SD' 'ID' 'MS' 'RI'\n",
      " 'WY' 'LA' 'ME']\n"
     ]
    }
   ],
   "source": [
    "# explore Country variable\n",
    "country_count = df.Country.value_counts()\n",
    "country_percent = country_count/len(df.index)*100\n",
    "country_summary = pd.concat([country_count, country_percent], axis = 1, keys = [\"Count\", \"Percentage\"])\n",
    "print(\"Country value count and percentage: \")\n",
    "print(country_summary)\n",
    "\n",
    "# explore state variables\n",
    "print(\"\\nState: \")\n",
    "print(df['state'].unique())"
   ]
  },
  {
   "cell_type": "markdown",
   "id": "2b27126b",
   "metadata": {},
   "source": [
    "**Summaries:**\n",
    "\n",
    "- Almost 60% of data come from United States, roughly 15% come from United Kindom, data points come from other countries only account for a small portion.\n",
    "- Form [List of states and territories of the United States](https://en.wikipedia.org/wiki/List_of_states_and_territories_of_the_United_States), all state information is only valid for data points from United States.\n",
    "\n",
    "Since a lot of missing values and biased distribution of data points in United States. I will drop them."
   ]
  },
  {
   "cell_type": "code",
   "execution_count": 13,
   "id": "eb67e671",
   "metadata": {},
   "outputs": [],
   "source": [
    "# drop Country and state\n",
    "df.drop([\"Country\", \"state\"],axis = 1, inplace = True)"
   ]
  },
  {
   "cell_type": "markdown",
   "id": "847673f2",
   "metadata": {},
   "source": [
    "We can easily see that just about 21% of data in **work_interfere** columns is NaN."
   ]
  },
  {
   "cell_type": "markdown",
   "id": "a7cf461f",
   "metadata": {},
   "source": [
    "- Looking at **work_interfere**'s content:"
   ]
  },
  {
   "cell_type": "code",
   "execution_count": 14,
   "id": "406e1231",
   "metadata": {},
   "outputs": [
    {
     "name": "stdout",
     "output_type": "stream",
     "text": [
      "Frequency:\n",
      "Sometimes    0.467337\n",
      "Never        0.214070\n",
      "Rarely       0.173869\n",
      "Often        0.144724\n",
      "Name: work_interfere, dtype: float64\n",
      "AxesSubplot(0.125,0.125;0.775x0.755)\n"
     ]
    },
    {
     "data": {
      "image/png": "[encoded data removed]",
      "text/plain": [
       "<Figure size 432x288 with 1 Axes>"
      ]
     },
     "metadata": {
      "needs_background": "light"
     },
     "output_type": "display_data"
    }
   ],
   "source": [
    "print(\"Frequency:\")\n",
    "print(df[\"work_interfere\"].value_counts(normalize = True))\n",
    "print(df[\"work_interfere\"].value_counts(normalize = True).plot(kind='bar'))"
   ]
  },
  {
   "cell_type": "markdown",
   "id": "b52601d5",
   "metadata": {},
   "source": [
    "- I fill the missing value as `Don't know`."
   ]
  },
  {
   "cell_type": "code",
   "execution_count": 15,
   "id": "2461ce16",
   "metadata": {},
   "outputs": [],
   "source": [
    "df[\"work_interfere\"] = df[\"work_interfere\"].fillna(\"Don't know\")"
   ]
  },
  {
   "cell_type": "markdown",
   "id": "97343d56",
   "metadata": {},
   "source": [
    "- Checking again the frequency of **work_interfere**"
   ]
  },
  {
   "cell_type": "code",
   "execution_count": 16,
   "id": "e761f531",
   "metadata": {},
   "outputs": [
    {
     "name": "stdout",
     "output_type": "stream",
     "text": [
      "Sometimes     0.369341\n",
      "Don't know    0.209690\n",
      "Never         0.169182\n",
      "Rarely        0.137411\n",
      "Often         0.114376\n",
      "Name: work_interfere, dtype: float64\n",
      "AxesSubplot(0.125,0.125;0.775x0.755)\n"
     ]
    },
    {
     "data": {
      "image/png": "[encoded data removed]",
      "text/plain": [
       "<Figure size 432x288 with 1 Axes>"
      ]
     },
     "metadata": {
      "needs_background": "light"
     },
     "output_type": "display_data"
    }
   ],
   "source": [
    "print(df[\"work_interfere\"].value_counts(normalize = True))\n",
    "print(df[\"work_interfere\"].value_counts(normalize = True).plot(kind='bar'))"
   ]
  },
  {
   "cell_type": "markdown",
   "id": "73fecaf2",
   "metadata": {},
   "source": [
    "- Let's move to **self_employed** column"
   ]
  },
  {
   "cell_type": "code",
   "execution_count": 17,
   "id": "1bc9e892",
   "metadata": {},
   "outputs": [
    {
     "name": "stdout",
     "output_type": "stream",
     "text": [
      "No     0.882353\n",
      "Yes    0.117647\n",
      "Name: self_employed, dtype: float64\n",
      "AxesSubplot(0.125,0.125;0.775x0.755)\n"
     ]
    },
    {
     "data": {
      "image/png": "[encoded data removed]",
      "text/plain": [
       "<Figure size 432x288 with 1 Axes>"
      ]
     },
     "metadata": {
      "needs_background": "light"
     },
     "output_type": "display_data"
    }
   ],
   "source": [
    "print(df[\"self_employed\"].value_counts(normalize = True))\n",
    "print(df[\"self_employed\"].value_counts(normalize = True).plot(kind='bar'))"
   ]
  },
  {
   "cell_type": "markdown",
   "id": "7e515af7",
   "metadata": {},
   "source": [
    "Since only virtually 1.4% of data are missing and `No` constitutes majority of the answers with essentially 0.9. It may be the default answer for the responders who ignored this question, therefore I will fill the missing value as `No`."
   ]
  },
  {
   "cell_type": "code",
   "execution_count": 18,
   "id": "a1787196",
   "metadata": {},
   "outputs": [],
   "source": [
    "df[\"self_employed\"] = df[\"self_employed\"].fillna(\"No\")"
   ]
  },
  {
   "cell_type": "markdown",
   "id": "5fdf3689",
   "metadata": {},
   "source": [
    "- Let's see the changes:"
   ]
  },
  {
   "cell_type": "code",
   "execution_count": 19,
   "id": "d7d04599",
   "metadata": {},
   "outputs": [
    {
     "name": "stdout",
     "output_type": "stream",
     "text": [
      "No     0.884035\n",
      "Yes    0.115965\n",
      "Name: self_employed, dtype: float64\n",
      "AxesSubplot(0.125,0.125;0.775x0.755)\n"
     ]
    },
    {
     "data": {
      "image/png": "[encoded data removed]",
      "text/plain": [
       "<Figure size 432x288 with 1 Axes>"
      ]
     },
     "metadata": {
      "needs_background": "light"
     },
     "output_type": "display_data"
    }
   ],
   "source": [
    "print(df[\"self_employed\"].value_counts(normalize = True))\n",
    "print(df[\"self_employed\"].value_counts(normalize = True).plot(kind='bar'))"
   ]
  },
  {
   "cell_type": "markdown",
   "id": "79f423bb",
   "metadata": {},
   "source": [
    "- Let's look again, is there still any missing?"
   ]
  },
  {
   "cell_type": "code",
   "execution_count": 20,
   "id": "52a44bb4",
   "metadata": {},
   "outputs": [
    {
     "name": "stdout",
     "output_type": "stream",
     "text": [
      "Missing value count and percentage: \n",
      "                           Count  Percentage\n",
      "Timestamp                      0         0.0\n",
      "Age                            0         0.0\n",
      "mental_vs_physical             0         0.0\n",
      "phys_health_interview          0         0.0\n",
      "mental_health_interview        0         0.0\n",
      "supervisor                     0         0.0\n",
      "coworkers                      0         0.0\n",
      "phys_health_consequence        0         0.0\n",
      "mental_health_consequence      0         0.0\n",
      "leave                          0         0.0\n",
      "anonymity                      0         0.0\n",
      "seek_help                      0         0.0\n",
      "wellness_program               0         0.0\n",
      "care_options                   0         0.0\n",
      "benefits                       0         0.0\n",
      "tech_company                   0         0.0\n",
      "remote_work                    0         0.0\n",
      "no_employees                   0         0.0\n",
      "work_interfere                 0         0.0\n",
      "treatment                      0         0.0\n",
      "family_history                 0         0.0\n",
      "self_employed                  0         0.0\n",
      "Gender                         0         0.0\n",
      "obs_consequence                0         0.0\n"
     ]
    }
   ],
   "source": [
    "raw_data = df.copy()\n",
    "\n",
    "null_count = df.isnull().sum().sort_values(ascending=False)\n",
    "null_percent = null_count/len(df.index)*100\n",
    "null_summary = pd.concat([null_count, null_percent], axis = 1, keys = [\"Count\", \"Percentage\"])\n",
    "print(\"Missing value count and percentage: \")\n",
    "print(null_summary)"
   ]
  },
  {
   "cell_type": "markdown",
   "id": "152cebb9",
   "metadata": {},
   "source": [
    "Nex, we see min, max and Abnormality with each numerical colum and each categorical column."
   ]
  },
  {
   "cell_type": "markdown",
   "id": "60dddf59",
   "metadata": {},
   "source": [
    "## With each numerical and categorical column"
   ]
  },
  {
   "cell_type": "markdown",
   "id": "0d2e1bc6",
   "metadata": {},
   "source": [
    "- Find min and max"
   ]
  },
  {
   "cell_type": "code",
   "execution_count": 21,
   "id": "d022edc4",
   "metadata": {},
   "outputs": [
    {
     "data": {
      "text/html": [
       "<div>\n",
       "<style scoped>\n",
       "    .dataframe tbody tr th:only-of-type {\n",
       "        vertical-align: middle;\n",
       "    }\n",
       "\n",
       "    .dataframe tbody tr th {\n",
       "        vertical-align: top;\n",
       "    }\n",
       "\n",
       "    .dataframe thead th {\n",
       "        text-align: right;\n",
       "    }\n",
       "</style>\n",
       "<table border=\"1\" class=\"dataframe\">\n",
       "  <thead>\n",
       "    <tr style=\"text-align: right;\">\n",
       "      <th></th>\n",
       "      <th>Timestamp</th>\n",
       "      <th>Age</th>\n",
       "      <th>Gender</th>\n",
       "      <th>self_employed</th>\n",
       "      <th>family_history</th>\n",
       "      <th>treatment</th>\n",
       "      <th>work_interfere</th>\n",
       "      <th>no_employees</th>\n",
       "      <th>remote_work</th>\n",
       "      <th>tech_company</th>\n",
       "      <th>...</th>\n",
       "      <th>anonymity</th>\n",
       "      <th>leave</th>\n",
       "      <th>mental_health_consequence</th>\n",
       "      <th>phys_health_consequence</th>\n",
       "      <th>coworkers</th>\n",
       "      <th>supervisor</th>\n",
       "      <th>mental_health_interview</th>\n",
       "      <th>phys_health_interview</th>\n",
       "      <th>mental_vs_physical</th>\n",
       "      <th>obs_consequence</th>\n",
       "    </tr>\n",
       "  </thead>\n",
       "  <tbody>\n",
       "    <tr>\n",
       "      <th>count</th>\n",
       "      <td>1259</td>\n",
       "      <td>1.259000e+03</td>\n",
       "      <td>1259</td>\n",
       "      <td>1259</td>\n",
       "      <td>1259</td>\n",
       "      <td>1259</td>\n",
       "      <td>1259</td>\n",
       "      <td>1259</td>\n",
       "      <td>1259</td>\n",
       "      <td>1259</td>\n",
       "      <td>...</td>\n",
       "      <td>1259</td>\n",
       "      <td>1259</td>\n",
       "      <td>1259</td>\n",
       "      <td>1259</td>\n",
       "      <td>1259</td>\n",
       "      <td>1259</td>\n",
       "      <td>1259</td>\n",
       "      <td>1259</td>\n",
       "      <td>1259</td>\n",
       "      <td>1259</td>\n",
       "    </tr>\n",
       "    <tr>\n",
       "      <th>unique</th>\n",
       "      <td>1246</td>\n",
       "      <td>NaN</td>\n",
       "      <td>49</td>\n",
       "      <td>2</td>\n",
       "      <td>2</td>\n",
       "      <td>2</td>\n",
       "      <td>5</td>\n",
       "      <td>6</td>\n",
       "      <td>2</td>\n",
       "      <td>2</td>\n",
       "      <td>...</td>\n",
       "      <td>3</td>\n",
       "      <td>5</td>\n",
       "      <td>3</td>\n",
       "      <td>3</td>\n",
       "      <td>3</td>\n",
       "      <td>3</td>\n",
       "      <td>3</td>\n",
       "      <td>3</td>\n",
       "      <td>3</td>\n",
       "      <td>2</td>\n",
       "    </tr>\n",
       "    <tr>\n",
       "      <th>top</th>\n",
       "      <td>2014-08-27 12:44:51</td>\n",
       "      <td>NaN</td>\n",
       "      <td>Male</td>\n",
       "      <td>No</td>\n",
       "      <td>No</td>\n",
       "      <td>Yes</td>\n",
       "      <td>Sometimes</td>\n",
       "      <td>6-25</td>\n",
       "      <td>No</td>\n",
       "      <td>Yes</td>\n",
       "      <td>...</td>\n",
       "      <td>Don't know</td>\n",
       "      <td>Don't know</td>\n",
       "      <td>No</td>\n",
       "      <td>No</td>\n",
       "      <td>Some of them</td>\n",
       "      <td>Yes</td>\n",
       "      <td>No</td>\n",
       "      <td>Maybe</td>\n",
       "      <td>Don't know</td>\n",
       "      <td>No</td>\n",
       "    </tr>\n",
       "    <tr>\n",
       "      <th>freq</th>\n",
       "      <td>2</td>\n",
       "      <td>NaN</td>\n",
       "      <td>615</td>\n",
       "      <td>1113</td>\n",
       "      <td>767</td>\n",
       "      <td>637</td>\n",
       "      <td>465</td>\n",
       "      <td>290</td>\n",
       "      <td>883</td>\n",
       "      <td>1031</td>\n",
       "      <td>...</td>\n",
       "      <td>819</td>\n",
       "      <td>563</td>\n",
       "      <td>490</td>\n",
       "      <td>925</td>\n",
       "      <td>774</td>\n",
       "      <td>516</td>\n",
       "      <td>1008</td>\n",
       "      <td>557</td>\n",
       "      <td>576</td>\n",
       "      <td>1075</td>\n",
       "    </tr>\n",
       "    <tr>\n",
       "      <th>first</th>\n",
       "      <td>2014-08-27 11:29:31</td>\n",
       "      <td>NaN</td>\n",
       "      <td>NaN</td>\n",
       "      <td>NaN</td>\n",
       "      <td>NaN</td>\n",
       "      <td>NaN</td>\n",
       "      <td>NaN</td>\n",
       "      <td>NaN</td>\n",
       "      <td>NaN</td>\n",
       "      <td>NaN</td>\n",
       "      <td>...</td>\n",
       "      <td>NaN</td>\n",
       "      <td>NaN</td>\n",
       "      <td>NaN</td>\n",
       "      <td>NaN</td>\n",
       "      <td>NaN</td>\n",
       "      <td>NaN</td>\n",
       "      <td>NaN</td>\n",
       "      <td>NaN</td>\n",
       "      <td>NaN</td>\n",
       "      <td>NaN</td>\n",
       "    </tr>\n",
       "    <tr>\n",
       "      <th>last</th>\n",
       "      <td>2016-02-01 23:04:31</td>\n",
       "      <td>NaN</td>\n",
       "      <td>NaN</td>\n",
       "      <td>NaN</td>\n",
       "      <td>NaN</td>\n",
       "      <td>NaN</td>\n",
       "      <td>NaN</td>\n",
       "      <td>NaN</td>\n",
       "      <td>NaN</td>\n",
       "      <td>NaN</td>\n",
       "      <td>...</td>\n",
       "      <td>NaN</td>\n",
       "      <td>NaN</td>\n",
       "      <td>NaN</td>\n",
       "      <td>NaN</td>\n",
       "      <td>NaN</td>\n",
       "      <td>NaN</td>\n",
       "      <td>NaN</td>\n",
       "      <td>NaN</td>\n",
       "      <td>NaN</td>\n",
       "      <td>NaN</td>\n",
       "    </tr>\n",
       "    <tr>\n",
       "      <th>mean</th>\n",
       "      <td>NaN</td>\n",
       "      <td>7.942815e+07</td>\n",
       "      <td>NaN</td>\n",
       "      <td>NaN</td>\n",
       "      <td>NaN</td>\n",
       "      <td>NaN</td>\n",
       "      <td>NaN</td>\n",
       "      <td>NaN</td>\n",
       "      <td>NaN</td>\n",
       "      <td>NaN</td>\n",
       "      <td>...</td>\n",
       "      <td>NaN</td>\n",
       "      <td>NaN</td>\n",
       "      <td>NaN</td>\n",
       "      <td>NaN</td>\n",
       "      <td>NaN</td>\n",
       "      <td>NaN</td>\n",
       "      <td>NaN</td>\n",
       "      <td>NaN</td>\n",
       "      <td>NaN</td>\n",
       "      <td>NaN</td>\n",
       "    </tr>\n",
       "    <tr>\n",
       "      <th>std</th>\n",
       "      <td>NaN</td>\n",
       "      <td>2.818299e+09</td>\n",
       "      <td>NaN</td>\n",
       "      <td>NaN</td>\n",
       "      <td>NaN</td>\n",
       "      <td>NaN</td>\n",
       "      <td>NaN</td>\n",
       "      <td>NaN</td>\n",
       "      <td>NaN</td>\n",
       "      <td>NaN</td>\n",
       "      <td>...</td>\n",
       "      <td>NaN</td>\n",
       "      <td>NaN</td>\n",
       "      <td>NaN</td>\n",
       "      <td>NaN</td>\n",
       "      <td>NaN</td>\n",
       "      <td>NaN</td>\n",
       "      <td>NaN</td>\n",
       "      <td>NaN</td>\n",
       "      <td>NaN</td>\n",
       "      <td>NaN</td>\n",
       "    </tr>\n",
       "    <tr>\n",
       "      <th>min</th>\n",
       "      <td>NaN</td>\n",
       "      <td>-1.726000e+03</td>\n",
       "      <td>NaN</td>\n",
       "      <td>NaN</td>\n",
       "      <td>NaN</td>\n",
       "      <td>NaN</td>\n",
       "      <td>NaN</td>\n",
       "      <td>NaN</td>\n",
       "      <td>NaN</td>\n",
       "      <td>NaN</td>\n",
       "      <td>...</td>\n",
       "      <td>NaN</td>\n",
       "      <td>NaN</td>\n",
       "      <td>NaN</td>\n",
       "      <td>NaN</td>\n",
       "      <td>NaN</td>\n",
       "      <td>NaN</td>\n",
       "      <td>NaN</td>\n",
       "      <td>NaN</td>\n",
       "      <td>NaN</td>\n",
       "      <td>NaN</td>\n",
       "    </tr>\n",
       "    <tr>\n",
       "      <th>25%</th>\n",
       "      <td>NaN</td>\n",
       "      <td>2.700000e+01</td>\n",
       "      <td>NaN</td>\n",
       "      <td>NaN</td>\n",
       "      <td>NaN</td>\n",
       "      <td>NaN</td>\n",
       "      <td>NaN</td>\n",
       "      <td>NaN</td>\n",
       "      <td>NaN</td>\n",
       "      <td>NaN</td>\n",
       "      <td>...</td>\n",
       "      <td>NaN</td>\n",
       "      <td>NaN</td>\n",
       "      <td>NaN</td>\n",
       "      <td>NaN</td>\n",
       "      <td>NaN</td>\n",
       "      <td>NaN</td>\n",
       "      <td>NaN</td>\n",
       "      <td>NaN</td>\n",
       "      <td>NaN</td>\n",
       "      <td>NaN</td>\n",
       "    </tr>\n",
       "    <tr>\n",
       "      <th>50%</th>\n",
       "      <td>NaN</td>\n",
       "      <td>3.100000e+01</td>\n",
       "      <td>NaN</td>\n",
       "      <td>NaN</td>\n",
       "      <td>NaN</td>\n",
       "      <td>NaN</td>\n",
       "      <td>NaN</td>\n",
       "      <td>NaN</td>\n",
       "      <td>NaN</td>\n",
       "      <td>NaN</td>\n",
       "      <td>...</td>\n",
       "      <td>NaN</td>\n",
       "      <td>NaN</td>\n",
       "      <td>NaN</td>\n",
       "      <td>NaN</td>\n",
       "      <td>NaN</td>\n",
       "      <td>NaN</td>\n",
       "      <td>NaN</td>\n",
       "      <td>NaN</td>\n",
       "      <td>NaN</td>\n",
       "      <td>NaN</td>\n",
       "    </tr>\n",
       "    <tr>\n",
       "      <th>75%</th>\n",
       "      <td>NaN</td>\n",
       "      <td>3.600000e+01</td>\n",
       "      <td>NaN</td>\n",
       "      <td>NaN</td>\n",
       "      <td>NaN</td>\n",
       "      <td>NaN</td>\n",
       "      <td>NaN</td>\n",
       "      <td>NaN</td>\n",
       "      <td>NaN</td>\n",
       "      <td>NaN</td>\n",
       "      <td>...</td>\n",
       "      <td>NaN</td>\n",
       "      <td>NaN</td>\n",
       "      <td>NaN</td>\n",
       "      <td>NaN</td>\n",
       "      <td>NaN</td>\n",
       "      <td>NaN</td>\n",
       "      <td>NaN</td>\n",
       "      <td>NaN</td>\n",
       "      <td>NaN</td>\n",
       "      <td>NaN</td>\n",
       "    </tr>\n",
       "    <tr>\n",
       "      <th>max</th>\n",
       "      <td>NaN</td>\n",
       "      <td>1.000000e+11</td>\n",
       "      <td>NaN</td>\n",
       "      <td>NaN</td>\n",
       "      <td>NaN</td>\n",
       "      <td>NaN</td>\n",
       "      <td>NaN</td>\n",
       "      <td>NaN</td>\n",
       "      <td>NaN</td>\n",
       "      <td>NaN</td>\n",
       "      <td>...</td>\n",
       "      <td>NaN</td>\n",
       "      <td>NaN</td>\n",
       "      <td>NaN</td>\n",
       "      <td>NaN</td>\n",
       "      <td>NaN</td>\n",
       "      <td>NaN</td>\n",
       "      <td>NaN</td>\n",
       "      <td>NaN</td>\n",
       "      <td>NaN</td>\n",
       "      <td>NaN</td>\n",
       "    </tr>\n",
       "  </tbody>\n",
       "</table>\n",
       "<p>13 rows × 24 columns</p>\n",
       "</div>"
      ],
      "text/plain": [
       "                  Timestamp           Age Gender self_employed family_history  \\\n",
       "count                  1259  1.259000e+03   1259          1259           1259   \n",
       "unique                 1246           NaN     49             2              2   \n",
       "top     2014-08-27 12:44:51           NaN   Male            No             No   \n",
       "freq                      2           NaN    615          1113            767   \n",
       "first   2014-08-27 11:29:31           NaN    NaN           NaN            NaN   \n",
       "last    2016-02-01 23:04:31           NaN    NaN           NaN            NaN   \n",
       "mean                    NaN  7.942815e+07    NaN           NaN            NaN   \n",
       "std                     NaN  2.818299e+09    NaN           NaN            NaN   \n",
       "min                     NaN -1.726000e+03    NaN           NaN            NaN   \n",
       "25%                     NaN  2.700000e+01    NaN           NaN            NaN   \n",
       "50%                     NaN  3.100000e+01    NaN           NaN            NaN   \n",
       "75%                     NaN  3.600000e+01    NaN           NaN            NaN   \n",
       "max                     NaN  1.000000e+11    NaN           NaN            NaN   \n",
       "\n",
       "       treatment work_interfere no_employees remote_work tech_company  ...  \\\n",
       "count       1259           1259         1259        1259         1259  ...   \n",
       "unique         2              5            6           2            2  ...   \n",
       "top          Yes      Sometimes         6-25          No          Yes  ...   \n",
       "freq         637            465          290         883         1031  ...   \n",
       "first        NaN            NaN          NaN         NaN          NaN  ...   \n",
       "last         NaN            NaN          NaN         NaN          NaN  ...   \n",
       "mean         NaN            NaN          NaN         NaN          NaN  ...   \n",
       "std          NaN            NaN          NaN         NaN          NaN  ...   \n",
       "min          NaN            NaN          NaN         NaN          NaN  ...   \n",
       "25%          NaN            NaN          NaN         NaN          NaN  ...   \n",
       "50%          NaN            NaN          NaN         NaN          NaN  ...   \n",
       "75%          NaN            NaN          NaN         NaN          NaN  ...   \n",
       "max          NaN            NaN          NaN         NaN          NaN  ...   \n",
       "\n",
       "         anonymity       leave mental_health_consequence  \\\n",
       "count         1259        1259                      1259   \n",
       "unique           3           5                         3   \n",
       "top     Don't know  Don't know                        No   \n",
       "freq           819         563                       490   \n",
       "first          NaN         NaN                       NaN   \n",
       "last           NaN         NaN                       NaN   \n",
       "mean           NaN         NaN                       NaN   \n",
       "std            NaN         NaN                       NaN   \n",
       "min            NaN         NaN                       NaN   \n",
       "25%            NaN         NaN                       NaN   \n",
       "50%            NaN         NaN                       NaN   \n",
       "75%            NaN         NaN                       NaN   \n",
       "max            NaN         NaN                       NaN   \n",
       "\n",
       "       phys_health_consequence     coworkers supervisor  \\\n",
       "count                     1259          1259       1259   \n",
       "unique                       3             3          3   \n",
       "top                         No  Some of them        Yes   \n",
       "freq                       925           774        516   \n",
       "first                      NaN           NaN        NaN   \n",
       "last                       NaN           NaN        NaN   \n",
       "mean                       NaN           NaN        NaN   \n",
       "std                        NaN           NaN        NaN   \n",
       "min                        NaN           NaN        NaN   \n",
       "25%                        NaN           NaN        NaN   \n",
       "50%                        NaN           NaN        NaN   \n",
       "75%                        NaN           NaN        NaN   \n",
       "max                        NaN           NaN        NaN   \n",
       "\n",
       "       mental_health_interview phys_health_interview mental_vs_physical  \\\n",
       "count                     1259                  1259               1259   \n",
       "unique                       3                     3                  3   \n",
       "top                         No                 Maybe         Don't know   \n",
       "freq                      1008                   557                576   \n",
       "first                      NaN                   NaN                NaN   \n",
       "last                       NaN                   NaN                NaN   \n",
       "mean                       NaN                   NaN                NaN   \n",
       "std                        NaN                   NaN                NaN   \n",
       "min                        NaN                   NaN                NaN   \n",
       "25%                        NaN                   NaN                NaN   \n",
       "50%                        NaN                   NaN                NaN   \n",
       "75%                        NaN                   NaN                NaN   \n",
       "max                        NaN                   NaN                NaN   \n",
       "\n",
       "       obs_consequence  \n",
       "count             1259  \n",
       "unique               2  \n",
       "top                 No  \n",
       "freq              1075  \n",
       "first              NaN  \n",
       "last               NaN  \n",
       "mean               NaN  \n",
       "std                NaN  \n",
       "min                NaN  \n",
       "25%                NaN  \n",
       "50%                NaN  \n",
       "75%                NaN  \n",
       "max                NaN  \n",
       "\n",
       "[13 rows x 24 columns]"
      ]
     },
     "execution_count": 21,
     "metadata": {},
     "output_type": "execute_result"
    }
   ],
   "source": [
    "round(df.describe(include='all'),2)"
   ]
  },
  {
   "cell_type": "markdown",
   "id": "450ccb66",
   "metadata": {},
   "source": [
    "- Overview column Age and Gender"
   ]
  },
  {
   "cell_type": "code",
   "execution_count": 22,
   "id": "ad4f997d",
   "metadata": {},
   "outputs": [
    {
     "data": {
      "text/plain": [
       "count           1259.000000\n",
       "mean        79428148.311358\n",
       "std       2818299442.981952\n",
       "min            -1726.000000\n",
       "25%               27.000000\n",
       "50%               31.000000\n",
       "75%               36.000000\n",
       "max      99999999999.000000\n",
       "Name: Age, dtype: object"
      ]
     },
     "execution_count": 22,
     "metadata": {},
     "output_type": "execute_result"
    }
   ],
   "source": [
    "df[\"Age\"].describe().apply(lambda x: format(x, 'f'))"
   ]
  },
  {
   "cell_type": "code",
   "execution_count": 23,
   "id": "df5e2a63",
   "metadata": {},
   "outputs": [
    {
     "name": "stdout",
     "output_type": "stream",
     "text": [
      "The dataset contains different age groups including:\n",
      "[         37          44          32          31          33          35\n",
      "          39          42          23          29          36          27\n",
      "          46          41          34          30          40          38\n",
      "          50          24          18          28          26          22\n",
      "          19          25          45          21         -29          43\n",
      "          56          60          54         329          55 99999999999\n",
      "          48          20          57          58          47          62\n",
      "          51          65          49       -1726           5          53\n",
      "          61           8          11          -1          72]\n"
     ]
    },
    {
     "data": {
      "text/plain": [
       "<AxesSubplot:xlabel='Age', ylabel='count'>"
      ]
     },
     "execution_count": 23,
     "metadata": {},
     "output_type": "execute_result"
    },
    {
     "data": {
      "image/png": "[encoded data removed]",
      "text/plain": [
       "<Figure size 1440x360 with 1 Axes>"
      ]
     },
     "metadata": {
      "needs_background": "light"
     },
     "output_type": "display_data"
    }
   ],
   "source": [
    "print(\"The dataset contains different age groups including:\")\n",
    "print(df['Age'].unique())\n",
    "\n",
    "fig, ax = plt.subplots(figsize = (20, 5))\n",
    "sns.countplot(x=\"Age\", data=df)"
   ]
  },
  {
   "cell_type": "code",
   "execution_count": 24,
   "id": "14d9b6f7",
   "metadata": {},
   "outputs": [
    {
     "name": "stdout",
     "output_type": "stream",
     "text": [
      "The different gender notations used in our dataset are:\n",
      "['Female' 'M' 'Male' 'male' 'female' 'm' 'Male-ish' 'maile' 'Trans-female'\n",
      " 'Cis Female' 'F' 'something kinda male?' 'Cis Male' 'Woman' 'f' 'Mal'\n",
      " 'Male (CIS)' 'queer/she/they' 'non-binary' 'Femake' 'woman' 'Make' 'Nah'\n",
      " 'All' 'Enby' 'fluid' 'Genderqueer' 'Female ' 'Androgyne' 'Agender'\n",
      " 'cis-female/femme' 'Guy (-ish) ^_^' 'male leaning androgynous' 'Male '\n",
      " 'Man' 'Trans woman' 'msle' 'Neuter' 'Female (trans)' 'queer'\n",
      " 'Female (cis)' 'Mail' 'cis male' 'A little about you' 'Malr' 'p' 'femail'\n",
      " 'Cis Man' 'ostensibly male, unsure what that really means']\n"
     ]
    }
   ],
   "source": [
    "print(\"The different gender notations used in our dataset are:\")\n",
    "print(df['Gender'].unique())"
   ]
  },
  {
   "cell_type": "markdown",
   "id": "c8335f82",
   "metadata": {},
   "source": [
    "- We can simply see some unreasonable values appear in the `Age` column, such as negative values or values below 14 (unreasonable age for a employee - [LinkForLegalWorkingAge](https://en.wikipedia.org/wiki/Legal_working_age)), or values past 100.\n",
    "- With `Gender`, we need to clean gender column as it is having too many different categories.\n",
    "\n",
    "Let's check how many values outsize the range [14,100]."
   ]
  },
  {
   "cell_type": "code",
   "execution_count": 25,
   "id": "e53a6233",
   "metadata": {},
   "outputs": [
    {
     "name": "stdout",
     "output_type": "stream",
     "text": [
      "The number of ages is less than 14:\n",
      "6\n",
      "The number of ages is higher than 100:\n",
      "2\n"
     ]
    }
   ],
   "source": [
    "print(\"The number of ages is less than 14:\")\n",
    "print(df[\"Age\"][df[\"Age\"]<14].count())\n",
    "print(\"The number of ages is higher than 100:\")\n",
    "print(df[\"Age\"][df[\"Age\"]>100].count())"
   ]
  },
  {
   "cell_type": "markdown",
   "id": "4d75bf0f",
   "metadata": {},
   "source": [
    "- The outliers just constitute a very small proportion, so we can savely drop these unreasonable points."
   ]
  },
  {
   "cell_type": "code",
   "execution_count": 26,
   "id": "4cb2e2f6",
   "metadata": {},
   "outputs": [
    {
     "data": {
      "text/plain": [
       "array([37, 44, 32, 31, 33, 35, 39, 42, 23, 29, 36, 27, 46, 41, 34, 30, 40,\n",
       "       38, 50, 24, 18, 28, 26, 22, 19, 25, 45, 21, 43, 56, 60, 54, 55, 48,\n",
       "       20, 57, 58, 47, 62, 51, 65, 49, 53, 61, 72], dtype=int64)"
      ]
     },
     "execution_count": 26,
     "metadata": {},
     "output_type": "execute_result"
    }
   ],
   "source": [
    "df.drop(df[df[\"Age\"]<14].index, inplace = True)\n",
    "df.drop(df[df[\"Age\"]>100].index, inplace = True)\n",
    "df[\"Age\"].unique()"
   ]
  },
  {
   "cell_type": "markdown",
   "id": "fa55d6cb",
   "metadata": {},
   "source": [
    "- Next, grouping `Gender` into three categories: \"Female\", \"Male\" and \"Others\"."
   ]
  },
  {
   "cell_type": "code",
   "execution_count": 27,
   "id": "2c8830b1",
   "metadata": {},
   "outputs": [
    {
     "data": {
      "text/plain": [
       "<AxesSubplot:xlabel='Gender', ylabel='count'>"
      ]
     },
     "execution_count": 27,
     "metadata": {},
     "output_type": "execute_result"
    },
    {
     "data": {
      "image/png": "[encoded data removed]",
      "text/plain": [
       "<Figure size 432x288 with 1 Axes>"
      ]
     },
     "metadata": {
      "needs_background": "light"
     },
     "output_type": "display_data"
    }
   ],
   "source": [
    "male_group = ['M', 'Male', 'male', 'm', 'Male-ish', 'maile','Cis Male', \n",
    "              'Mal', 'Male (CIS)',  'Make', 'Male ', 'Man', 'msle', \n",
    "              'Mail', 'cis male', 'Malr', 'Cis Man']\n",
    "female_group = ['Female', 'Female ','female','Cis Female', 'F', 'Woman', 'f','woman', \n",
    "                'Femake', 'cis-female/femme', 'Female (cis)', 'femail']\n",
    "other_group = ['Trans-female','non-binary', 'Nah', 'Enby', 'fluid', 'Genderqueer', \n",
    "               'Androgyne', 'Agender', 'Guy (-ish) ^_^', 'Neuter',\n",
    "               'queer', 'queer/she/they','Trans woman',\n",
    "               'Female (trans)','male leaning androgynous', \n",
    "               'ostensibly male, unsure what that really means',\n",
    "               'something kinda male?']\n",
    "total_words = len(male_group) + len(female_group) + len(other_group)\n",
    "\n",
    "# to make sure all words are categorized\n",
    "assert(total_words == len(df[\"Gender\"].unique())) \n",
    "\n",
    "df[\"Gender\"].replace(male_group,\"Male\",inplace=True)\n",
    "df[\"Gender\"].replace(female_group,\"Female\",inplace=True)\n",
    "df[\"Gender\"].replace(other_group,\"Others\",inplace=True)\n",
    "df[\"Gender\"].value_counts()\n",
    "\n",
    "sns.countplot(df['Gender'])"
   ]
  },
  {
   "cell_type": "markdown",
   "id": "d1ab93ac",
   "metadata": {},
   "source": [
    "- Let's see other columns"
   ]
  },
  {
   "cell_type": "code",
   "execution_count": 44,
   "id": "9786bf82",
   "metadata": {},
   "outputs": [
    {
     "data": {
      "text/plain": [
       "<AxesSubplot:xlabel='obs_consequence', ylabel='count'>"
      ]
     },
     "execution_count": 44,
     "metadata": {},
     "output_type": "execute_result"
    },
    {
     "data": {
      "image/png": "[encoded data removed]",
      "text/plain": [
       "<Figure size 1584x2880 with 18 Axes>"
      ]
     },
     "metadata": {
      "needs_background": "light"
     },
     "output_type": "display_data"
    }
   ],
   "source": [
    "fig, ax = plt.subplots(figsize = (22, 40), ncols=2, nrows=9)\n",
    "sns.countplot(x=\"self_employed\", data=df, ax=ax[0][0])\n",
    "sns.countplot(x=\"family_history\", data=df, ax=ax[0][1])\n",
    "sns.countplot(x=\"treatment\", data=df, ax=ax[1][0])\n",
    "sns.countplot(x=\"work_interfere\", data=df, ax=ax[1][1])\n",
    "sns.countplot(x=\"no_employees\", data=df, ax=ax[2][0])\n",
    "sns.countplot(x=\"remote_work\", data=df, ax=ax[2][1])\n",
    "sns.countplot(x=\"tech_company\", data=df, ax=ax[3][0])\n",
    "sns.countplot(x=\"benefits\", data=df, ax=ax[3][1])\n",
    "sns.countplot(x=\"care_options\", data=df, ax=ax[4][0])\n",
    "sns.countplot(x=\"wellness_program\", data=df, ax=ax[4][1])\n",
    "sns.countplot(x=\"seek_help\", data=df, ax=ax[5][0])\n",
    "sns.countplot(x=\"anonymity\", data=df, ax=ax[5][1])\n",
    "sns.countplot(x=\"leave\", data=df, ax=ax[6][0])\n",
    "sns.countplot(x=\"mental_health_consequence\", data=df, ax=ax[6][1])\n",
    "sns.countplot(x=\"phys_health_consequence\", data=df, ax=ax[7][0])\n",
    "sns.countplot(x=\"mental_vs_physical\", data=df, ax=ax[7][1])\n",
    "sns.countplot(x=\"obs_consequence\", data=df, ax=ax[8][0])"
   ]
  },
  {
   "cell_type": "markdown",
   "id": "0e312bf3",
   "metadata": {},
   "source": [
    "<h1 style = \"font-family: Comic Sans MS;background-color:#D7BDE2\"> Asking meaningful questions </h1> "
   ]
  },
  {
   "cell_type": "code",
   "execution_count": null,
   "id": "323b66a7",
   "metadata": {},
   "outputs": [],
   "source": []
  }
 ],
 "metadata": {
  "kernelspec": {
   "display_name": "Python 3 (ipykernel)",
   "language": "python",
   "name": "python3"
  },
  "language_info": {
   "codemirror_mode": {
    "name": "ipython",
    "version": 3
   },
   "file_extension": ".py",
   "mimetype": "text/x-python",
   "name": "python",
   "nbconvert_exporter": "python",
   "pygments_lexer": "ipython3",
   "version": "3.8.8"
  }
 },
 "nbformat": 4,
 "nbformat_minor": 5
}
